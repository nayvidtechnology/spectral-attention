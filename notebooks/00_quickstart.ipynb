{
 "cells": [
  {
   "cell_type": "markdown",
   "id": "8b508c6c",
   "metadata": {},
   "source": [
    "## Setup"
   ]
  },
  {
   "cell_type": "code",
   "execution_count": 4,
   "id": "446c9530",
   "metadata": {},
   "outputs": [],
   "source": [
    "import torch\n",
    "from spectral_attention import SpectralAttention\n",
    "from spectral_attention.train_eval import make_model, measure_throughput\n"
   ]
  },
  {
   "cell_type": "markdown",
   "id": "3e7f4da7",
   "metadata": {},
   "source": [
    "## Forward sanity"
   ]
  },
  {
   "cell_type": "code",
   "execution_count": 5,
   "id": "a5b887f4",
   "metadata": {},
   "outputs": [
    {
     "data": {
      "text/plain": [
       "torch.Size([2, 1024, 512])"
      ]
     },
     "execution_count": 5,
     "metadata": {},
     "output_type": "execute_result"
    }
   ],
   "source": [
    "device = \"cuda\" if torch.cuda.is_available() else \"cpu\"\n",
    "x = torch.randn(2, 1024, 512, device=device)\n",
    "\n",
    "m = make_model(\"spectral\", depth=2, d_model=512, n_heads=8, use_dct=False).to(device)\n",
    "y = m(x)\n",
    "y.shape\n"
   ]
  },
  {
   "cell_type": "markdown",
   "id": "9f39435d",
   "metadata": {},
   "source": [
    "## Throughput vs vanilla (seq=2k)"
   ]
  },
  {
   "cell_type": "code",
   "execution_count": 6,
   "id": "46939fbd",
   "metadata": {},
   "outputs": [
    {
     "name": "stdout",
     "output_type": "stream",
     "text": [
      "spectral tokens/s= 309888 ms/it= 26.44 peakMB= 412\n",
      "vanilla tokens/s= 188744 ms/it= 43.4 peakMB= 412\n"
     ]
    }
   ],
   "source": [
    "for kind in [\"spectral\", \"vanilla\"]:\n",
    "    m = make_model(kind, depth=2, d_model=512, n_heads=8).to(x.device)\n",
    "    tps, ms, mem = measure_throughput(m, torch.randn(4, 2048, 512, device=x.device))\n",
    "    print(kind, \"tokens/s=\", int(tps), \"ms/it=\", round(ms,2), \"peakMB=\", int(mem))\n"
   ]
  }
 ],
 "metadata": {
  "kernelspec": {
   "display_name": ".venvmultigpu",
   "language": "python",
   "name": "python3"
  },
  "language_info": {
   "codemirror_mode": {
    "name": "ipython",
    "version": 3
   },
   "file_extension": ".py",
   "mimetype": "text/x-python",
   "name": "python",
   "nbconvert_exporter": "python",
   "pygments_lexer": "ipython3",
   "version": "3.10.18"
  }
 },
 "nbformat": 4,
 "nbformat_minor": 5
}
