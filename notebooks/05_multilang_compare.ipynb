{
 "cells": [
  {
   "cell_type": "markdown",
   "id": "603b9617",
   "metadata": {},
   "source": [
    "# Multilingual GPT-2 vs Spectral-Attention Demo\n",
    "This notebook compares vanilla GPT-2 and a Spectral-Attention variant on prompts in English, Hindi, Gujarati, and Kannada.\n",
    "\n",
    "It replicates the behavior of `scripts/hf_multilang_compare.py` inline and extends it with metrics and visualization."
   ]
  },
  {
   "cell_type": "code",
   "execution_count": 1,
   "id": "a64a6d9a",
   "metadata": {},
   "outputs": [],
   "source": [
    "# Install & Imports\n",
    "import os, sys, math, json, time, random, pathlib\n",
    "import numpy as np\n",
    "import pandas as pd\n",
    "import torch\n",
    "from pathlib import Path\n",
    "from datasets import load_dataset\n",
    "from transformers import AutoTokenizer, AutoModelForCausalLM, GPT2Config\n",
    "\n",
    "# Ensure local src on path when opened from repo root\n",
    "repo_root = Path.cwd().resolve().parent if (Path.cwd().name == 'notebooks') else Path.cwd().resolve()\n",
    "if str(repo_root / 'src') not in sys.path:\n",
    "    sys.path.insert(0, str(repo_root / 'src'))\n",
    "\n",
    "from spectral_attention import convert_gpt2lm_to_spectral  # noqa\n",
    "from spectral_attention.utils import resolve_device, parse_amp_dtype  # noqa\n",
    "\n",
    "def set_seed(s=1234):\n",
    "    random.seed(s); np.random.seed(s); torch.manual_seed(s); torch.cuda.manual_seed_all(s)\n",
    "set_seed(1234)"
   ]
  },
  {
   "cell_type": "code",
   "execution_count": 2,
   "id": "3abd8b52",
   "metadata": {},
   "outputs": [
    {
     "name": "stdout",
     "output_type": "stream",
     "text": [
      "device = cuda | dtype = torch.bfloat16 | base_model = gpt2\n"
     ]
    }
   ],
   "source": [
    "# Configure device/dtype and base model\n",
    "device = resolve_device('auto')\n",
    "dtype = parse_amp_dtype('bf16') or torch.float32\n",
    "base_model = 'gpt2'\n",
    "print('device =', device, '| dtype =', dtype, '| base_model =', base_model)"
   ]
  },
  {
   "cell_type": "code",
   "execution_count": 3,
   "id": "117a3f73",
   "metadata": {},
   "outputs": [
    {
     "data": {
      "text/plain": [
       "GPT2LMHeadModel(\n",
       "  (transformer): GPT2Model(\n",
       "    (wte): Embedding(50257, 768)\n",
       "    (wpe): Embedding(1024, 768)\n",
       "    (drop): Dropout(p=0.1, inplace=False)\n",
       "    (h): ModuleList(\n",
       "      (0-11): 12 x GPT2Block(\n",
       "        (ln_1): LayerNorm((768,), eps=1e-05, elementwise_affine=True)\n",
       "        (attn): SpectralGPT2Attention(\n",
       "          (c_attn): Conv1D(nf=2304, nx=768)\n",
       "          (c_proj): Conv1D(nf=768, nx=768)\n",
       "          (attn_dropout): Dropout(p=0.1, inplace=False)\n",
       "          (resid_dropout): Dropout(p=0.1, inplace=False)\n",
       "          (spectral): SpectralAttention(\n",
       "            (W_qkv): Linear(in_features=768, out_features=2304, bias=True)\n",
       "            (W_o): Linear(in_features=768, out_features=768, bias=True)\n",
       "            (drop): Dropout(p=0.0, inplace=False)\n",
       "          )\n",
       "        )\n",
       "        (ln_2): LayerNorm((768,), eps=1e-05, elementwise_affine=True)\n",
       "        (mlp): GPT2MLP(\n",
       "          (c_fc): Conv1D(nf=3072, nx=768)\n",
       "          (c_proj): Conv1D(nf=768, nx=3072)\n",
       "          (act): NewGELUActivation()\n",
       "          (dropout): Dropout(p=0.1, inplace=False)\n",
       "        )\n",
       "      )\n",
       "    )\n",
       "    (ln_f): LayerNorm((768,), eps=1e-05, elementwise_affine=True)\n",
       "  )\n",
       "  (lm_head): Linear(in_features=768, out_features=50257, bias=False)\n",
       ")"
      ]
     },
     "execution_count": 3,
     "metadata": {},
     "output_type": "execute_result"
    }
   ],
   "source": [
    "# Load tokenizer and both models (vanilla + spectral)\n",
    "tokenizer = AutoTokenizer.from_pretrained(base_model, use_fast=True)\n",
    "if tokenizer.pad_token is None:\n",
    "    tokenizer.pad_token = tokenizer.eos_token\n",
    "\n",
    "vanilla = AutoModelForCausalLM.from_pretrained(base_model)\n",
    "try:\n",
    "    vanilla = vanilla.to(device).to(dtype)\n",
    "except Exception:\n",
    "    vanilla = vanilla.to(device)  # fallback to fp32\n",
    "vanilla.eval()\n",
    "\n",
    "cfg = GPT2Config.from_pretrained(base_model)\n",
    "spectral = convert_gpt2lm_to_spectral(cfg, from_pretrained=base_model)\n",
    "try:\n",
    "    spectral = spectral.to(device).to(dtype)\n",
    "except Exception:\n",
    "    spectral = spectral.to(device)\n",
    "spectral.eval()"
   ]
  },
  {
   "cell_type": "code",
   "execution_count": null,
   "id": "8b85baa0",
   "metadata": {},
   "outputs": [],
   "source": [
    "# Optionally load a fine-tuned Spectral checkpoint (from KD)\n",
    "# Set to \"\" to skip, or point to your .pt file, e.g., experiments/runs/kd/spectral_kd_2k.pt\n",
    "spectral_ckpt = \"experiments/runs/kd/spectral_kd_2k.pt\"\n",
    "\n",
    "from pathlib import Path\n",
    "if spectral_ckpt and Path(spectral_ckpt).is_file():\n",
    "    sd = torch.load(spectral_ckpt, map_location=device)\n",
    "    missing, unexpected = spectral.load_state_dict(sd, strict=False)\n",
    "    print(f\"[spectral_ckpt] loaded {Path(spectral_ckpt).name} | missing: {len(missing)} | unexpected: {len(unexpected)}\")\n",
    "else:\n",
    "    print(f\"[spectral_ckpt] not found or empty: {spectral_ckpt}\")"
   ]
  },
  {
   "cell_type": "code",
   "execution_count": 4,
   "id": "b65bbde1",
   "metadata": {},
   "outputs": [
    {
     "data": {
      "text/plain": [
       "[('en', 'The quick brown fox jumps over the lazy dog.'),\n",
       " ('en', 'In a shocking finding, scientists discovered that'),\n",
       " ('hi', 'भारत के संविधान की प्रस्तावना कहती है कि भारत एक'),\n",
       " ('gu', 'ભારતનું બંધારણ કહે છે કે ભારત એક'),\n",
       " ('kn', 'ಭಾರತದ ಸಂವಿಧಾನದ ಮುನ್ನುಡಿ ಹೇಳುತ್ತದೆ ಭಾರತ ಒಂದು')]"
      ]
     },
     "execution_count": 4,
     "metadata": {},
     "output_type": "execute_result"
    }
   ],
   "source": [
    "# Define multilingual prompts (EN/HI/GU/KN)\n",
    "prompts = [\n",
    "    (\"en\", \"The quick brown fox jumps over the lazy dog.\"),\n",
    "    (\"en\", \"In a shocking finding, scientists discovered that\"),\n",
    "    (\"hi\", \"भारत के संविधान की प्रस्तावना कहती है कि भारत एक\"),\n",
    "    (\"gu\", \"ભારતનું બંધારણ કહે છે કે ભારત એક\"),\n",
    "    (\"kn\", \"ಭಾರತದ ಸಂವಿಧಾನದ ಮುನ್ನುಡಿ ಹೇಳುತ್ತದೆ ಭಾರತ ಒಂದು\"),\n",
    "]\n",
    "prompts"
   ]
  },
  {
   "cell_type": "code",
   "execution_count": null,
   "id": "d479b2f4",
   "metadata": {},
   "outputs": [],
   "source": [
    "# Helpers: NLL on prompt and generation\n",
    "lossf = torch.nn.CrossEntropyLoss(ignore_index=-100, reduction='mean')\n",
    "\n",
    "@torch.no_grad()\n",
    "def prompt_nll(model, input_ids: torch.Tensor) -> float:\n",
    "    labels = input_ids.clone()\n",
    "    labels[:, :-1] = input_ids[:, 1:]\n",
    "    labels[:, -1] = -100\n",
    "    attn = (input_ids != tokenizer.pad_token_id)\n",
    "    out = model(input_ids=input_ids, attention_mask=attn)\n",
    "    logits = out.logits\n",
    "    loss = lossf(logits.reshape(-1, logits.size(-1)), labels.reshape(-1))\n",
    "    return float(loss)\n",
    "\n",
    "@torch.no_grad()\n",
    "def generate_text(model, input_ids: torch.Tensor, max_new_tokens=40, temperature=0.8, top_p=0.95) -> str:\n",
    "    attn = (input_ids != tokenizer.pad_token_id)\n",
    "    gen = model.generate(\n",
    "        input_ids=input_ids, attention_mask=attn, do_sample=True,\n",
    "        temperature=temperature, top_p=top_p, max_new_tokens=max_new_tokens,\n",
    "        pad_token_id=tokenizer.pad_token_id, eos_token_id=tokenizer.eos_token_id,\n",
    "    )\n",
    "    return tokenizer.batch_decode(gen, skip_special_tokens=True)[0]"
   ]
  },
  {
   "cell_type": "code",
   "execution_count": 6,
   "id": "03aac282",
   "metadata": {},
   "outputs": [
    {
     "data": {
      "text/html": [
       "<div>\n",
       "<style scoped>\n",
       "    .dataframe tbody tr th:only-of-type {\n",
       "        vertical-align: middle;\n",
       "    }\n",
       "\n",
       "    .dataframe tbody tr th {\n",
       "        vertical-align: top;\n",
       "    }\n",
       "\n",
       "    .dataframe thead th {\n",
       "        text-align: right;\n",
       "    }\n",
       "</style>\n",
       "<table border=\"1\" class=\"dataframe\">\n",
       "  <thead>\n",
       "    <tr style=\"text-align: right;\">\n",
       "      <th></th>\n",
       "      <th>lang</th>\n",
       "      <th>prompt</th>\n",
       "      <th>vanilla_loss</th>\n",
       "      <th>vanilla_ppl</th>\n",
       "      <th>vanilla_text</th>\n",
       "      <th>spectral_loss</th>\n",
       "      <th>spectral_ppl</th>\n",
       "      <th>spectral_text</th>\n",
       "    </tr>\n",
       "  </thead>\n",
       "  <tbody>\n",
       "    <tr>\n",
       "      <th>0</th>\n",
       "      <td>en</td>\n",
       "      <td>The quick brown fox jumps over the lazy dog.</td>\n",
       "      <td>5.062500</td>\n",
       "      <td>157.984985</td>\n",
       "      <td>The quick brown fox jumps over the lazy dog. W...</td>\n",
       "      <td>7.53125</td>\n",
       "      <td>1865.435842</td>\n",
       "      <td>The quick brown fox jumps over the lazy dog.1....</td>\n",
       "    </tr>\n",
       "    <tr>\n",
       "      <th>1</th>\n",
       "      <td>en</td>\n",
       "      <td>In a shocking finding, scientists discovered that</td>\n",
       "      <td>3.890625</td>\n",
       "      <td>48.941465</td>\n",
       "      <td>In a shocking finding, scientists discovered t...</td>\n",
       "      <td>7.00000</td>\n",
       "      <td>1096.633158</td>\n",
       "      <td>In a shocking finding, scientists discovered t...</td>\n",
       "    </tr>\n",
       "    <tr>\n",
       "      <th>2</th>\n",
       "      <td>hi</td>\n",
       "      <td>भारत के संविधान की प्रस्तावना कहती है कि भारत एक</td>\n",
       "      <td>1.601562</td>\n",
       "      <td>4.960778</td>\n",
       "      <td>भारत के संविधान की प्रस्तावना कहती है कि भारत ...</td>\n",
       "      <td>7.03125</td>\n",
       "      <td>1131.444032</td>\n",
       "      <td>भारत के संविधान की प्रस्तावना कहती है कि भारत ...</td>\n",
       "    </tr>\n",
       "    <tr>\n",
       "      <th>3</th>\n",
       "      <td>gu</td>\n",
       "      <td>ભારતનું બંધારણ કહે છે કે ભારત એક</td>\n",
       "      <td>1.507812</td>\n",
       "      <td>4.516839</td>\n",
       "      <td>ભારતનું બંધારણ કહે છે કે ભારત એકહેપન ઙંરદથ �</td>\n",
       "      <td>8.68750</td>\n",
       "      <td>5928.342844</td>\n",
       "      <td>ભારતનું બંધારણ કહે છે કે ભારત એક)The first per...</td>\n",
       "    </tr>\n",
       "    <tr>\n",
       "      <th>4</th>\n",
       "      <td>kn</td>\n",
       "      <td>ಭಾರತದ ಸಂವಿಧಾನದ ಮುನ್ನುಡಿ ಹೇಳುತ್ತದೆ ಭಾರತ ಒಂದು</td>\n",
       "      <td>1.500000</td>\n",
       "      <td>4.481689</td>\n",
       "      <td>ಭಾರತದ ಸಂವಿಧಾನದ ಮುನ್ನುಡಿ ಹೇಳುತ್ತದೆ ಭಾರತ ಒಂದುಠಿಧ...</td>\n",
       "      <td>7.75000</td>\n",
       "      <td>2321.572415</td>\n",
       "      <td>ಭಾರತದ ಸಂವಿಧಾನದ ಮುನ್ನುಡಿ ಹೇಳುತ್ತದೆ ಭಾರತ ಒಂದು . ...</td>\n",
       "    </tr>\n",
       "  </tbody>\n",
       "</table>\n",
       "</div>"
      ],
      "text/plain": [
       "  lang                                             prompt  vanilla_loss  \\\n",
       "0   en       The quick brown fox jumps over the lazy dog.      5.062500   \n",
       "1   en  In a shocking finding, scientists discovered that      3.890625   \n",
       "2   hi   भारत के संविधान की प्रस्तावना कहती है कि भारत एक      1.601562   \n",
       "3   gu                   ભારતનું બંધારણ કહે છે કે ભારત એક      1.507812   \n",
       "4   kn        ಭಾರತದ ಸಂವಿಧಾನದ ಮುನ್ನುಡಿ ಹೇಳುತ್ತದೆ ಭಾರತ ಒಂದು      1.500000   \n",
       "\n",
       "   vanilla_ppl                                       vanilla_text  \\\n",
       "0   157.984985  The quick brown fox jumps over the lazy dog. W...   \n",
       "1    48.941465  In a shocking finding, scientists discovered t...   \n",
       "2     4.960778  भारत के संविधान की प्रस्तावना कहती है कि भारत ...   \n",
       "3     4.516839       ભારતનું બંધારણ કહે છે કે ભારત એકહેપન ઙંરદથ �   \n",
       "4     4.481689  ಭಾರತದ ಸಂವಿಧಾನದ ಮುನ್ನುಡಿ ಹೇಳುತ್ತದೆ ಭಾರತ ಒಂದುಠಿಧ...   \n",
       "\n",
       "   spectral_loss  spectral_ppl  \\\n",
       "0        7.53125   1865.435842   \n",
       "1        7.00000   1096.633158   \n",
       "2        7.03125   1131.444032   \n",
       "3        8.68750   5928.342844   \n",
       "4        7.75000   2321.572415   \n",
       "\n",
       "                                       spectral_text  \n",
       "0  The quick brown fox jumps over the lazy dog.1....  \n",
       "1  In a shocking finding, scientists discovered t...  \n",
       "2  भारत के संविधान की प्रस्तावना कहती है कि भारत ...  \n",
       "3  ભારતનું બંધારણ કહે છે કે ભારત એક)The first per...  \n",
       "4  ಭಾರತದ ಸಂವಿಧಾನದ ಮುನ್ನುಡಿ ಹೇಳುತ್ತದೆ ಭಾರತ ಒಂದು . ...  "
      ]
     },
     "execution_count": 6,
     "metadata": {},
     "output_type": "execute_result"
    }
   ],
   "source": [
    "# Run comparison and collect results\n",
    "rows = []\n",
    "for lang, txt in prompts:\n",
    "    enc = tokenizer([txt], return_tensors='pt', padding=True)\n",
    "    ids = enc['input_ids'].to(device)\n",
    "    v_loss = prompt_nll(vanilla, ids)\n",
    "    s_loss = prompt_nll(spectral, ids)\n",
    "    v_ppl = math.exp(v_loss) if v_loss < 20 else float('inf')\n",
    "    s_ppl = math.exp(s_loss) if s_loss < 20 else float('inf')\n",
    "    v_text = generate_text(vanilla, ids, max_new_tokens=30)\n",
    "    s_text = generate_text(spectral, ids, max_new_tokens=30)\n",
    "    rows.append({\n",
    "        'lang': lang, 'prompt': txt,\n",
    "        'vanilla_loss': v_loss, 'vanilla_ppl': v_ppl, 'vanilla_text': v_text,\n",
    "        'spectral_loss': s_loss, 'spectral_ppl': s_ppl, 'spectral_text': s_text,\n",
    "    })\n",
    "df = pd.DataFrame(rows)\n",
    "df"
   ]
  },
  {
   "cell_type": "code",
   "execution_count": 7,
   "id": "467fb12f",
   "metadata": {},
   "outputs": [
    {
     "data": {
      "image/png": "[encoded data removed]",
      "text/plain": [
       "<Figure size 1000x500 with 1 Axes>"
      ]
     },
     "metadata": {},
     "output_type": "display_data"
    }
   ],
   "source": [
    "# Simple visualization: bar chart of prompt PPLs\n",
    "import matplotlib.pyplot as plt\n",
    "import seaborn as sns\n",
    "sns.set(style='whitegrid')\n",
    "plt.figure(figsize=(10,5))\n",
    "vals = df.melt(id_vars=['lang','prompt'], value_vars=['vanilla_ppl','spectral_ppl'],\n",
    "               var_name='model', value_name='ppl')\n",
    "sns.barplot(data=vals, x='lang', y='ppl', hue='model')\n",
    "plt.yscale('log')\n",
    "plt.title('Prompt perplexity by language (lower is better)')\n",
    "plt.show()"
   ]
  },
  {
   "cell_type": "markdown",
   "id": "3e503bec",
   "metadata": {},
   "source": [
    "## Compare multiple spectral checkpoints\n",
    "\n",
    "Use this section to evaluate several fine-tuned Spectral checkpoints against the same prompts, side-by-side with vanilla GPT-2. Update the paths as needed; missing checkpoints will be skipped."
   ]
  },
  {
   "cell_type": "code",
   "execution_count": null,
   "id": "142e6eda",
   "metadata": {},
   "outputs": [],
   "source": [
    "def load_spectral_ckpt(model, ckpt_path: str):\n",
    "    from pathlib import Path\n",
    "    if ckpt_path and Path(ckpt_path).is_file():\n",
    "        sd = torch.load(ckpt_path, map_location=device)\n",
    "        missing, unexpected = model.load_state_dict(sd, strict=False)\n",
    "        print(f\"[spectral_ckpt] loaded {Path(ckpt_path).name} | missing: {len(missing)} | unexpected: {len(unexpected)}\")\n",
    "        return True\n",
    "    print(f\"[spectral_ckpt] not found or empty: {ckpt_path}\")\n",
    "    return False\n",
    "\n",
    "# List checkpoints to compare (edit as needed)\n",
    "ckpt_list = [\n",
    "    \"experiments/runs/kd/spectral_kd_2k.pt\",\n",
    "    \"experiments/runs/kd/spectral_kd_5k_seq512.pt\",  # when available\n",
    "]\n",
    "\n",
    "# Evaluate each spectral checkpoint vs vanilla\n",
    "multi_rows = []\n",
    "for ck in ckpt_list:\n",
    "    spec_copy = convert_gpt2lm_to_spectral(GPT2Config.from_pretrained(base_model), from_pretrained=base_model)\n",
    "    spec_copy = spec_copy.to(device).to(dtype) if dtype != torch.float32 else spec_copy.to(device)\n",
    "    if not load_spectral_ckpt(spec_copy, ck):\n",
    "        continue\n",
    "    for lang, txt in prompts:\n",
    "        ids = tokenizer([txt], return_tensors='pt', padding=True)['input_ids'].to(device)\n",
    "        v_loss = prompt_nll(vanilla, ids)\n",
    "        s_loss = prompt_nll(spec_copy, ids)\n",
    "        v_ppl = math.exp(v_loss) if v_loss < 20 else float('inf')\n",
    "        s_ppl = math.exp(s_loss) if s_loss < 20 else float('inf')\n",
    "        multi_rows.append({\n",
    "            'ckpt': ck, 'lang': lang, 'prompt': txt,\n",
    "            'vanilla_ppl': v_ppl, 'spectral_ppl': s_ppl,\n",
    "            'vanilla_loss': v_loss, 'spectral_loss': s_loss,\n",
    "        })\n",
    "\n",
    "multi_df = pd.DataFrame(multi_rows)\n",
    "multi_df.head()"
   ]
  },
  {
   "cell_type": "code",
   "execution_count": null,
   "id": "2d5b483d",
   "metadata": {},
   "outputs": [],
   "source": [
    "# Visualization for multiple checkpoints\n",
    "import matplotlib.pyplot as plt\n",
    "import seaborn as sns\n",
    "sns.set(style='whitegrid')\n",
    "\n",
    "if not multi_df.empty:\n",
    "    plt.figure(figsize=(12,6))\n",
    "    vals = multi_df.melt(id_vars=['ckpt','lang'], value_vars=['vanilla_ppl','spectral_ppl'], var_name='model', value_name='ppl')\n",
    "    sns.barplot(data=vals, x='lang', y='ppl', hue='model', ci=None)\n",
    "    plt.yscale('log')\n",
    "    plt.title('Prompt perplexity by language across Spectral checkpoints (log scale)')\n",
    "    plt.show()\n",
    "else:\n",
    "    print('No checkpoints loaded for multi-compare.')"
   ]
  },
  {
   "cell_type": "code",
   "execution_count": 8,
   "id": "14ec3dc3",
   "metadata": {},
   "outputs": [
    {
     "name": "stdout",
     "output_type": "stream",
     "text": [
      "Saved → experiments\\runs\\multilang_notebook\\results_20250917-113559.jsonl\n"
     ]
    }
   ],
   "source": [
    "# Save JSONL outputs (optional)\n",
    "out_root = Path('experiments/runs/multilang_notebook')\n",
    "out_root.mkdir(parents=True, exist_ok=True)\n",
    "outp = out_root / f'results_{time.strftime(\"%Y%m%d-%H%M%S\")}.jsonl'\n",
    "with open(outp, 'a', encoding='utf-8') as f:\n",
    "    for _, r in df.iterrows():\n",
    "        f.write(json.dumps(r.to_dict(), ensure_ascii=False) + '\\n')\n",
    "print('Saved →', outp)"
   ]
  }
 ],
 "metadata": {
  "kernelspec": {
   "display_name": ".venvmultigpu",
   "language": "python",
   "name": "python3"
  },
  "language_info": {
   "codemirror_mode": {
    "name": "ipython",
    "version": 3
   },
   "file_extension": ".py",
   "mimetype": "text/x-python",
   "name": "python",
   "nbconvert_exporter": "python",
   "pygments_lexer": "ipython3",
   "version": "3.10.18"
  }
 },
 "nbformat": 4,
 "nbformat_minor": 5
}
